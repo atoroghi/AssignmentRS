{
  "cells": [
    {
      "cell_type": "markdown",
      "metadata": {
        "collapsed": true,
        "id": "3zkUQsPyuBHt"
      },
      "source": [
        "# Recommender for MovieLens"
      ]
    },
    {
      "cell_type": "markdown",
      "metadata": {
        "id": "q516dLQGuBHw"
      },
      "source": [
        "### Getting MovieLens data"
      ]
    },
    {
      "cell_type": "markdown",
      "metadata": {
        "id": "VbCSqIyZuBHx"
      },
      "source": [
        "* Download the movielens 100k dataset from this link: [ml-100k.zip](http://files.grouplens.org/datasets/movielens/ml-100k.zip)\n",
        "\n",
        "* Upload ml-100k.zip\n",
        "\n",
        "* Extract using the following cell:"
      ]
    },
    {
      "cell_type": "code",
      "execution_count": 1,
      "metadata": {
        "colab": {
          "base_uri": "https://localhost:8080/"
        },
        "id": "n5CFVCz8uBHy",
        "outputId": "c56e3c13-f776-46db-ec47-4242214bbd09"
      },
      "outputs": [
        {
          "name": "stdout",
          "output_type": "stream",
          "text": [
            "Collecting wget\n",
            "  Downloading wget-3.2.zip (10 kB)\n",
            "  Preparing metadata (setup.py) ... \u001b[?25l\u001b[?25hdone\n",
            "Building wheels for collected packages: wget\n",
            "  Building wheel for wget (setup.py) ... \u001b[?25l\u001b[?25hdone\n",
            "  Created wheel for wget: filename=wget-3.2-py3-none-any.whl size=9656 sha256=df43a05c74c1c33568c112e2d0e05686ba6742082823758cfcd236939b456238\n",
            "  Stored in directory: /root/.cache/pip/wheels/8b/f1/7f/5c94f0a7a505ca1c81cd1d9208ae2064675d97582078e6c769\n",
            "Successfully built wget\n",
            "Installing collected packages: wget\n",
            "Successfully installed wget-3.2\n"
          ]
        }
      ],
      "source": [
        "!pip install wget"
      ]
    },
    {
      "cell_type": "code",
      "execution_count": 2,
      "metadata": {
        "id": "GrkuW0qOuBH3"
      },
      "outputs": [],
      "source": [
        "# import required libraries\n",
        "import numpy as np\n",
        "import pandas as pd\n",
        "from sklearn.metrics.pairwise import pairwise_distances\n",
        "from heapq import nlargest\n",
        "from sklearn.metrics import mean_squared_error\n",
        "from math import sqrt\n",
        "import os.path\n",
        "import wget"
      ]
    },
    {
      "cell_type": "code",
      "execution_count": 3,
      "metadata": {
        "colab": {
          "base_uri": "https://localhost:8080/"
        },
        "id": "kEW5ifakuBH5",
        "outputId": "8b5f366a-993f-4e47-c90a-bf5abf85d5e0"
      },
      "outputs": [
        {
          "name": "stdout",
          "output_type": "stream",
          "text": [
            "Archive:  ml-100k.zip\n",
            "   creating: ml-100k/\n",
            "  inflating: ml-100k/allbut.pl       \n",
            "  inflating: ml-100k/mku.sh          \n",
            "  inflating: ml-100k/README          \n",
            "  inflating: ml-100k/u.data          \n",
            "  inflating: ml-100k/u.genre         \n",
            "  inflating: ml-100k/u.info          \n",
            "  inflating: ml-100k/u.item          \n",
            "  inflating: ml-100k/u.occupation    \n",
            "  inflating: ml-100k/u.user          \n",
            "  inflating: ml-100k/u1.base         \n",
            "  inflating: ml-100k/u1.test         \n",
            "  inflating: ml-100k/u2.base         \n",
            "  inflating: ml-100k/u2.test         \n",
            "  inflating: ml-100k/u3.base         \n",
            "  inflating: ml-100k/u3.test         \n",
            "  inflating: ml-100k/u4.base         \n",
            "  inflating: ml-100k/u4.test         \n",
            "  inflating: ml-100k/u5.base         \n",
            "  inflating: ml-100k/u5.test         \n",
            "  inflating: ml-100k/ua.base         \n",
            "  inflating: ml-100k/ua.test         \n",
            "  inflating: ml-100k/ub.base         \n",
            "  inflating: ml-100k/ub.test         \n"
          ]
        }
      ],
      "source": [
        "# define constant for movielens 100K directory\n",
        "wget.download(\"https://github.com/MIE451-1513-2023/course-datasets/raw/main/ml-100k.zip\")\n",
        "!unzip ml-100k.zip\n",
        "MOVIELENS_DIR = \"ml-100k/\""
      ]
    },
    {
      "cell_type": "markdown",
      "metadata": {
        "id": "3l_Vf8uUuBH2"
      },
      "source": [
        "### Building the recommender"
      ]
    },
    {
      "cell_type": "markdown",
      "metadata": {
        "id": "7N3AEcebuBH8"
      },
      "source": [
        "## Loading the data"
      ]
    },
    {
      "cell_type": "markdown",
      "metadata": {
        "id": "vISe4HIcuBH8"
      },
      "source": [
        "First, we inspect the directory content"
      ]
    },
    {
      "cell_type": "code",
      "execution_count": 4,
      "metadata": {
        "colab": {
          "base_uri": "https://localhost:8080/"
        },
        "id": "XtVavVn_uBH9",
        "outputId": "903a0a7b-349a-47ec-c3f7-a5f1d336ef87"
      },
      "outputs": [
        {
          "name": "stdout",
          "output_type": "stream",
          "text": [
            "allbut.pl  u1.base  u2.test  u4.base  u5.test  ub.base\tu.genre  u.occupation\n",
            "mku.sh\t   u1.test  u3.base  u4.test  ua.base  ub.test\tu.info\t u.user\n",
            "README\t   u2.base  u3.test  u5.base  ua.test  u.data\tu.item\n"
          ]
        }
      ],
      "source": [
        "!ls $MOVIELENS_DIR"
      ]
    },
    {
      "cell_type": "markdown",
      "metadata": {
        "id": "kCTgOrhjuBIB"
      },
      "source": [
        "We then load the full MovieLens 100K dataset to find the number of users and items"
      ]
    },
    {
      "cell_type": "code",
      "execution_count": 5,
      "metadata": {
        "colab": {
          "base_uri": "https://localhost:8080/",
          "height": 206
        },
        "id": "LiIQ73vXuBIC",
        "outputId": "e274a759-76c5-4669-b38a-77bf23aea3e7"
      },
      "outputs": [
        {
          "data": {
            "application/vnd.google.colaboratory.intrinsic+json": {
              "summary": "{\n  \"name\": \"ratingDF\",\n  \"rows\": 100000,\n  \"fields\": [\n    {\n      \"column\": \"userID\",\n      \"properties\": {\n        \"dtype\": \"number\",\n        \"std\": 266,\n        \"min\": 1,\n        \"max\": 943,\n        \"num_unique_values\": 943,\n        \"samples\": [\n          262,\n          136,\n          821\n        ],\n        \"semantic_type\": \"\",\n        \"description\": \"\"\n      }\n    },\n    {\n      \"column\": \"itemID\",\n      \"properties\": {\n        \"dtype\": \"number\",\n        \"std\": 330,\n        \"min\": 1,\n        \"max\": 1682,\n        \"num_unique_values\": 1682,\n        \"samples\": [\n          1557,\n          808,\n          1618\n        ],\n        \"semantic_type\": \"\",\n        \"description\": \"\"\n      }\n    },\n    {\n      \"column\": \"rating\",\n      \"properties\": {\n        \"dtype\": \"number\",\n        \"std\": 1,\n        \"min\": 1,\n        \"max\": 5,\n        \"num_unique_values\": 5,\n        \"samples\": [\n          1,\n          5,\n          2\n        ],\n        \"semantic_type\": \"\",\n        \"description\": \"\"\n      }\n    },\n    {\n      \"column\": \"timestamp\",\n      \"properties\": {\n        \"dtype\": \"number\",\n        \"std\": 5343856,\n        \"min\": 874724710,\n        \"max\": 893286638,\n        \"num_unique_values\": 49282,\n        \"samples\": [\n          889728713,\n          888443306,\n          880605158\n        ],\n        \"semantic_type\": \"\",\n        \"description\": \"\"\n      }\n    }\n  ]\n}",
              "type": "dataframe",
              "variable_name": "ratingDF"
            },
            "text/html": [
              "\n",
              "  <div id=\"df-dbf5e211-feb4-467e-b8aa-c230342037d6\" class=\"colab-df-container\">\n",
              "    <div>\n",
              "<style scoped>\n",
              "    .dataframe tbody tr th:only-of-type {\n",
              "        vertical-align: middle;\n",
              "    }\n",
              "\n",
              "    .dataframe tbody tr th {\n",
              "        vertical-align: top;\n",
              "    }\n",
              "\n",
              "    .dataframe thead th {\n",
              "        text-align: right;\n",
              "    }\n",
              "</style>\n",
              "<table border=\"1\" class=\"dataframe\">\n",
              "  <thead>\n",
              "    <tr style=\"text-align: right;\">\n",
              "      <th></th>\n",
              "      <th>userID</th>\n",
              "      <th>itemID</th>\n",
              "      <th>rating</th>\n",
              "      <th>timestamp</th>\n",
              "    </tr>\n",
              "  </thead>\n",
              "  <tbody>\n",
              "    <tr>\n",
              "      <th>0</th>\n",
              "      <td>196</td>\n",
              "      <td>242</td>\n",
              "      <td>3</td>\n",
              "      <td>881250949</td>\n",
              "    </tr>\n",
              "    <tr>\n",
              "      <th>1</th>\n",
              "      <td>186</td>\n",
              "      <td>302</td>\n",
              "      <td>3</td>\n",
              "      <td>891717742</td>\n",
              "    </tr>\n",
              "    <tr>\n",
              "      <th>2</th>\n",
              "      <td>22</td>\n",
              "      <td>377</td>\n",
              "      <td>1</td>\n",
              "      <td>878887116</td>\n",
              "    </tr>\n",
              "    <tr>\n",
              "      <th>3</th>\n",
              "      <td>244</td>\n",
              "      <td>51</td>\n",
              "      <td>2</td>\n",
              "      <td>880606923</td>\n",
              "    </tr>\n",
              "    <tr>\n",
              "      <th>4</th>\n",
              "      <td>166</td>\n",
              "      <td>346</td>\n",
              "      <td>1</td>\n",
              "      <td>886397596</td>\n",
              "    </tr>\n",
              "  </tbody>\n",
              "</table>\n",
              "</div>\n",
              "    <div class=\"colab-df-buttons\">\n",
              "\n",
              "  <div class=\"colab-df-container\">\n",
              "    <button class=\"colab-df-convert\" onclick=\"convertToInteractive('df-dbf5e211-feb4-467e-b8aa-c230342037d6')\"\n",
              "            title=\"Convert this dataframe to an interactive table.\"\n",
              "            style=\"display:none;\">\n",
              "\n",
              "  <svg xmlns=\"http://www.w3.org/2000/svg\" height=\"24px\" viewBox=\"0 -960 960 960\">\n",
              "    <path d=\"M120-120v-720h720v720H120Zm60-500h600v-160H180v160Zm220 220h160v-160H400v160Zm0 220h160v-160H400v160ZM180-400h160v-160H180v160Zm440 0h160v-160H620v160ZM180-180h160v-160H180v160Zm440 0h160v-160H620v160Z\"/>\n",
              "  </svg>\n",
              "    </button>\n",
              "\n",
              "  <style>\n",
              "    .colab-df-container {\n",
              "      display:flex;\n",
              "      gap: 12px;\n",
              "    }\n",
              "\n",
              "    .colab-df-convert {\n",
              "      background-color: #E8F0FE;\n",
              "      border: none;\n",
              "      border-radius: 50%;\n",
              "      cursor: pointer;\n",
              "      display: none;\n",
              "      fill: #1967D2;\n",
              "      height: 32px;\n",
              "      padding: 0 0 0 0;\n",
              "      width: 32px;\n",
              "    }\n",
              "\n",
              "    .colab-df-convert:hover {\n",
              "      background-color: #E2EBFA;\n",
              "      box-shadow: 0px 1px 2px rgba(60, 64, 67, 0.3), 0px 1px 3px 1px rgba(60, 64, 67, 0.15);\n",
              "      fill: #174EA6;\n",
              "    }\n",
              "\n",
              "    .colab-df-buttons div {\n",
              "      margin-bottom: 4px;\n",
              "    }\n",
              "\n",
              "    [theme=dark] .colab-df-convert {\n",
              "      background-color: #3B4455;\n",
              "      fill: #D2E3FC;\n",
              "    }\n",
              "\n",
              "    [theme=dark] .colab-df-convert:hover {\n",
              "      background-color: #434B5C;\n",
              "      box-shadow: 0px 1px 3px 1px rgba(0, 0, 0, 0.15);\n",
              "      filter: drop-shadow(0px 1px 2px rgba(0, 0, 0, 0.3));\n",
              "      fill: #FFFFFF;\n",
              "    }\n",
              "  </style>\n",
              "\n",
              "    <script>\n",
              "      const buttonEl =\n",
              "        document.querySelector('#df-dbf5e211-feb4-467e-b8aa-c230342037d6 button.colab-df-convert');\n",
              "      buttonEl.style.display =\n",
              "        google.colab.kernel.accessAllowed ? 'block' : 'none';\n",
              "\n",
              "      async function convertToInteractive(key) {\n",
              "        const element = document.querySelector('#df-dbf5e211-feb4-467e-b8aa-c230342037d6');\n",
              "        const dataTable =\n",
              "          await google.colab.kernel.invokeFunction('convertToInteractive',\n",
              "                                                    [key], {});\n",
              "        if (!dataTable) return;\n",
              "\n",
              "        const docLinkHtml = 'Like what you see? Visit the ' +\n",
              "          '<a target=\"_blank\" href=https://colab.research.google.com/notebooks/data_table.ipynb>data table notebook</a>'\n",
              "          + ' to learn more about interactive tables.';\n",
              "        element.innerHTML = '';\n",
              "        dataTable['output_type'] = 'display_data';\n",
              "        await google.colab.output.renderOutput(dataTable, element);\n",
              "        const docLink = document.createElement('div');\n",
              "        docLink.innerHTML = docLinkHtml;\n",
              "        element.appendChild(docLink);\n",
              "      }\n",
              "    </script>\n",
              "  </div>\n",
              "\n",
              "\n",
              "<div id=\"df-9dbe5fe5-21c4-4693-91e2-6b225c513cd7\">\n",
              "  <button class=\"colab-df-quickchart\" onclick=\"quickchart('df-9dbe5fe5-21c4-4693-91e2-6b225c513cd7')\"\n",
              "            title=\"Suggest charts\"\n",
              "            style=\"display:none;\">\n",
              "\n",
              "<svg xmlns=\"http://www.w3.org/2000/svg\" height=\"24px\"viewBox=\"0 0 24 24\"\n",
              "     width=\"24px\">\n",
              "    <g>\n",
              "        <path d=\"M19 3H5c-1.1 0-2 .9-2 2v14c0 1.1.9 2 2 2h14c1.1 0 2-.9 2-2V5c0-1.1-.9-2-2-2zM9 17H7v-7h2v7zm4 0h-2V7h2v10zm4 0h-2v-4h2v4z\"/>\n",
              "    </g>\n",
              "</svg>\n",
              "  </button>\n",
              "\n",
              "<style>\n",
              "  .colab-df-quickchart {\n",
              "      --bg-color: #E8F0FE;\n",
              "      --fill-color: #1967D2;\n",
              "      --hover-bg-color: #E2EBFA;\n",
              "      --hover-fill-color: #174EA6;\n",
              "      --disabled-fill-color: #AAA;\n",
              "      --disabled-bg-color: #DDD;\n",
              "  }\n",
              "\n",
              "  [theme=dark] .colab-df-quickchart {\n",
              "      --bg-color: #3B4455;\n",
              "      --fill-color: #D2E3FC;\n",
              "      --hover-bg-color: #434B5C;\n",
              "      --hover-fill-color: #FFFFFF;\n",
              "      --disabled-bg-color: #3B4455;\n",
              "      --disabled-fill-color: #666;\n",
              "  }\n",
              "\n",
              "  .colab-df-quickchart {\n",
              "    background-color: var(--bg-color);\n",
              "    border: none;\n",
              "    border-radius: 50%;\n",
              "    cursor: pointer;\n",
              "    display: none;\n",
              "    fill: var(--fill-color);\n",
              "    height: 32px;\n",
              "    padding: 0;\n",
              "    width: 32px;\n",
              "  }\n",
              "\n",
              "  .colab-df-quickchart:hover {\n",
              "    background-color: var(--hover-bg-color);\n",
              "    box-shadow: 0 1px 2px rgba(60, 64, 67, 0.3), 0 1px 3px 1px rgba(60, 64, 67, 0.15);\n",
              "    fill: var(--button-hover-fill-color);\n",
              "  }\n",
              "\n",
              "  .colab-df-quickchart-complete:disabled,\n",
              "  .colab-df-quickchart-complete:disabled:hover {\n",
              "    background-color: var(--disabled-bg-color);\n",
              "    fill: var(--disabled-fill-color);\n",
              "    box-shadow: none;\n",
              "  }\n",
              "\n",
              "  .colab-df-spinner {\n",
              "    border: 2px solid var(--fill-color);\n",
              "    border-color: transparent;\n",
              "    border-bottom-color: var(--fill-color);\n",
              "    animation:\n",
              "      spin 1s steps(1) infinite;\n",
              "  }\n",
              "\n",
              "  @keyframes spin {\n",
              "    0% {\n",
              "      border-color: transparent;\n",
              "      border-bottom-color: var(--fill-color);\n",
              "      border-left-color: var(--fill-color);\n",
              "    }\n",
              "    20% {\n",
              "      border-color: transparent;\n",
              "      border-left-color: var(--fill-color);\n",
              "      border-top-color: var(--fill-color);\n",
              "    }\n",
              "    30% {\n",
              "      border-color: transparent;\n",
              "      border-left-color: var(--fill-color);\n",
              "      border-top-color: var(--fill-color);\n",
              "      border-right-color: var(--fill-color);\n",
              "    }\n",
              "    40% {\n",
              "      border-color: transparent;\n",
              "      border-right-color: var(--fill-color);\n",
              "      border-top-color: var(--fill-color);\n",
              "    }\n",
              "    60% {\n",
              "      border-color: transparent;\n",
              "      border-right-color: var(--fill-color);\n",
              "    }\n",
              "    80% {\n",
              "      border-color: transparent;\n",
              "      border-right-color: var(--fill-color);\n",
              "      border-bottom-color: var(--fill-color);\n",
              "    }\n",
              "    90% {\n",
              "      border-color: transparent;\n",
              "      border-bottom-color: var(--fill-color);\n",
              "    }\n",
              "  }\n",
              "</style>\n",
              "\n",
              "  <script>\n",
              "    async function quickchart(key) {\n",
              "      const quickchartButtonEl =\n",
              "        document.querySelector('#' + key + ' button');\n",
              "      quickchartButtonEl.disabled = true;  // To prevent multiple clicks.\n",
              "      quickchartButtonEl.classList.add('colab-df-spinner');\n",
              "      try {\n",
              "        const charts = await google.colab.kernel.invokeFunction(\n",
              "            'suggestCharts', [key], {});\n",
              "      } catch (error) {\n",
              "        console.error('Error during call to suggestCharts:', error);\n",
              "      }\n",
              "      quickchartButtonEl.classList.remove('colab-df-spinner');\n",
              "      quickchartButtonEl.classList.add('colab-df-quickchart-complete');\n",
              "    }\n",
              "    (() => {\n",
              "      let quickchartButtonEl =\n",
              "        document.querySelector('#df-9dbe5fe5-21c4-4693-91e2-6b225c513cd7 button');\n",
              "      quickchartButtonEl.style.display =\n",
              "        google.colab.kernel.accessAllowed ? 'block' : 'none';\n",
              "    })();\n",
              "  </script>\n",
              "</div>\n",
              "\n",
              "    </div>\n",
              "  </div>\n"
            ],
            "text/plain": [
              "   userID  itemID  rating  timestamp\n",
              "0     196     242       3  881250949\n",
              "1     186     302       3  891717742\n",
              "2      22     377       1  878887116\n",
              "3     244      51       2  880606923\n",
              "4     166     346       1  886397596"
            ]
          },
          "execution_count": 5,
          "metadata": {},
          "output_type": "execute_result"
        }
      ],
      "source": [
        "fields = ['userID', 'itemID', 'rating', 'timestamp']\n",
        "ratingDF = pd.read_csv(os.path.join(MOVIELENS_DIR, 'u.data'), sep='\\t', names=fields)\n",
        "\n",
        "ratingDF.head()"
      ]
    },
    {
      "cell_type": "code",
      "execution_count": 6,
      "metadata": {
        "colab": {
          "base_uri": "https://localhost:8080/"
        },
        "id": "CFyewh_7uBIE",
        "outputId": "5631adee-53ff-42d6-9136-63370bd183f1"
      },
      "outputs": [
        {
          "name": "stdout",
          "output_type": "stream",
          "text": [
            "Number of users: 943\n",
            "Number of items: 1682\n"
          ]
        }
      ],
      "source": [
        "numUsers = len(ratingDF.userID.unique())\n",
        "numItems = len(ratingDF.itemID.unique())\n",
        "\n",
        "print(\"Number of users:\", numUsers)\n",
        "print(\"Number of items:\", numItems)"
      ]
    },
    {
      "cell_type": "code",
      "execution_count": 7,
      "metadata": {
        "colab": {
          "base_uri": "https://localhost:8080/",
          "height": 377
        },
        "id": "cAKUrdNNuBIH",
        "outputId": "80b0a240-ff30-465f-d1ea-fe333978a372"
      },
      "outputs": [
        {
          "data": {
            "application/vnd.google.colaboratory.intrinsic+json": {
              "type": "dataframe",
              "variable_name": "moviesDF"
            },
            "text/html": [
              "\n",
              "  <div id=\"df-0162a039-e745-46a5-9017-e264e98f5bcc\" class=\"colab-df-container\">\n",
              "    <div>\n",
              "<style scoped>\n",
              "    .dataframe tbody tr th:only-of-type {\n",
              "        vertical-align: middle;\n",
              "    }\n",
              "\n",
              "    .dataframe tbody tr th {\n",
              "        vertical-align: top;\n",
              "    }\n",
              "\n",
              "    .dataframe thead th {\n",
              "        text-align: right;\n",
              "    }\n",
              "</style>\n",
              "<table border=\"1\" class=\"dataframe\">\n",
              "  <thead>\n",
              "    <tr style=\"text-align: right;\">\n",
              "      <th></th>\n",
              "      <th>movieID</th>\n",
              "      <th>movieTitle</th>\n",
              "      <th>releaseDate</th>\n",
              "      <th>videoReleaseDate</th>\n",
              "      <th>IMDbURL</th>\n",
              "      <th>unknown</th>\n",
              "      <th>action</th>\n",
              "      <th>adventure</th>\n",
              "      <th>animation</th>\n",
              "      <th>childrens</th>\n",
              "      <th>...</th>\n",
              "      <th>fantasy</th>\n",
              "      <th>filmNoir</th>\n",
              "      <th>horror</th>\n",
              "      <th>musical</th>\n",
              "      <th>mystery</th>\n",
              "      <th>romance</th>\n",
              "      <th>sciFi</th>\n",
              "      <th>thriller</th>\n",
              "      <th>war</th>\n",
              "      <th>western</th>\n",
              "    </tr>\n",
              "  </thead>\n",
              "  <tbody>\n",
              "    <tr>\n",
              "      <th>0</th>\n",
              "      <td>1</td>\n",
              "      <td>Toy Story (1995)</td>\n",
              "      <td>01-Jan-1995</td>\n",
              "      <td>NaN</td>\n",
              "      <td>http://us.imdb.com/M/title-exact?Toy%20Story%2...</td>\n",
              "      <td>0</td>\n",
              "      <td>0</td>\n",
              "      <td>0</td>\n",
              "      <td>1</td>\n",
              "      <td>1</td>\n",
              "      <td>...</td>\n",
              "      <td>0</td>\n",
              "      <td>0</td>\n",
              "      <td>0</td>\n",
              "      <td>0</td>\n",
              "      <td>0</td>\n",
              "      <td>0</td>\n",
              "      <td>0</td>\n",
              "      <td>0</td>\n",
              "      <td>0</td>\n",
              "      <td>0</td>\n",
              "    </tr>\n",
              "    <tr>\n",
              "      <th>1</th>\n",
              "      <td>2</td>\n",
              "      <td>GoldenEye (1995)</td>\n",
              "      <td>01-Jan-1995</td>\n",
              "      <td>NaN</td>\n",
              "      <td>http://us.imdb.com/M/title-exact?GoldenEye%20(...</td>\n",
              "      <td>0</td>\n",
              "      <td>1</td>\n",
              "      <td>1</td>\n",
              "      <td>0</td>\n",
              "      <td>0</td>\n",
              "      <td>...</td>\n",
              "      <td>0</td>\n",
              "      <td>0</td>\n",
              "      <td>0</td>\n",
              "      <td>0</td>\n",
              "      <td>0</td>\n",
              "      <td>0</td>\n",
              "      <td>0</td>\n",
              "      <td>1</td>\n",
              "      <td>0</td>\n",
              "      <td>0</td>\n",
              "    </tr>\n",
              "    <tr>\n",
              "      <th>2</th>\n",
              "      <td>3</td>\n",
              "      <td>Four Rooms (1995)</td>\n",
              "      <td>01-Jan-1995</td>\n",
              "      <td>NaN</td>\n",
              "      <td>http://us.imdb.com/M/title-exact?Four%20Rooms%...</td>\n",
              "      <td>0</td>\n",
              "      <td>0</td>\n",
              "      <td>0</td>\n",
              "      <td>0</td>\n",
              "      <td>0</td>\n",
              "      <td>...</td>\n",
              "      <td>0</td>\n",
              "      <td>0</td>\n",
              "      <td>0</td>\n",
              "      <td>0</td>\n",
              "      <td>0</td>\n",
              "      <td>0</td>\n",
              "      <td>0</td>\n",
              "      <td>1</td>\n",
              "      <td>0</td>\n",
              "      <td>0</td>\n",
              "    </tr>\n",
              "    <tr>\n",
              "      <th>3</th>\n",
              "      <td>4</td>\n",
              "      <td>Get Shorty (1995)</td>\n",
              "      <td>01-Jan-1995</td>\n",
              "      <td>NaN</td>\n",
              "      <td>http://us.imdb.com/M/title-exact?Get%20Shorty%...</td>\n",
              "      <td>0</td>\n",
              "      <td>1</td>\n",
              "      <td>0</td>\n",
              "      <td>0</td>\n",
              "      <td>0</td>\n",
              "      <td>...</td>\n",
              "      <td>0</td>\n",
              "      <td>0</td>\n",
              "      <td>0</td>\n",
              "      <td>0</td>\n",
              "      <td>0</td>\n",
              "      <td>0</td>\n",
              "      <td>0</td>\n",
              "      <td>0</td>\n",
              "      <td>0</td>\n",
              "      <td>0</td>\n",
              "    </tr>\n",
              "    <tr>\n",
              "      <th>4</th>\n",
              "      <td>5</td>\n",
              "      <td>Copycat (1995)</td>\n",
              "      <td>01-Jan-1995</td>\n",
              "      <td>NaN</td>\n",
              "      <td>http://us.imdb.com/M/title-exact?Copycat%20(1995)</td>\n",
              "      <td>0</td>\n",
              "      <td>0</td>\n",
              "      <td>0</td>\n",
              "      <td>0</td>\n",
              "      <td>0</td>\n",
              "      <td>...</td>\n",
              "      <td>0</td>\n",
              "      <td>0</td>\n",
              "      <td>0</td>\n",
              "      <td>0</td>\n",
              "      <td>0</td>\n",
              "      <td>0</td>\n",
              "      <td>0</td>\n",
              "      <td>1</td>\n",
              "      <td>0</td>\n",
              "      <td>0</td>\n",
              "    </tr>\n",
              "  </tbody>\n",
              "</table>\n",
              "<p>5 rows × 24 columns</p>\n",
              "</div>\n",
              "    <div class=\"colab-df-buttons\">\n",
              "\n",
              "  <div class=\"colab-df-container\">\n",
              "    <button class=\"colab-df-convert\" onclick=\"convertToInteractive('df-0162a039-e745-46a5-9017-e264e98f5bcc')\"\n",
              "            title=\"Convert this dataframe to an interactive table.\"\n",
              "            style=\"display:none;\">\n",
              "\n",
              "  <svg xmlns=\"http://www.w3.org/2000/svg\" height=\"24px\" viewBox=\"0 -960 960 960\">\n",
              "    <path d=\"M120-120v-720h720v720H120Zm60-500h600v-160H180v160Zm220 220h160v-160H400v160Zm0 220h160v-160H400v160ZM180-400h160v-160H180v160Zm440 0h160v-160H620v160ZM180-180h160v-160H180v160Zm440 0h160v-160H620v160Z\"/>\n",
              "  </svg>\n",
              "    </button>\n",
              "\n",
              "  <style>\n",
              "    .colab-df-container {\n",
              "      display:flex;\n",
              "      gap: 12px;\n",
              "    }\n",
              "\n",
              "    .colab-df-convert {\n",
              "      background-color: #E8F0FE;\n",
              "      border: none;\n",
              "      border-radius: 50%;\n",
              "      cursor: pointer;\n",
              "      display: none;\n",
              "      fill: #1967D2;\n",
              "      height: 32px;\n",
              "      padding: 0 0 0 0;\n",
              "      width: 32px;\n",
              "    }\n",
              "\n",
              "    .colab-df-convert:hover {\n",
              "      background-color: #E2EBFA;\n",
              "      box-shadow: 0px 1px 2px rgba(60, 64, 67, 0.3), 0px 1px 3px 1px rgba(60, 64, 67, 0.15);\n",
              "      fill: #174EA6;\n",
              "    }\n",
              "\n",
              "    .colab-df-buttons div {\n",
              "      margin-bottom: 4px;\n",
              "    }\n",
              "\n",
              "    [theme=dark] .colab-df-convert {\n",
              "      background-color: #3B4455;\n",
              "      fill: #D2E3FC;\n",
              "    }\n",
              "\n",
              "    [theme=dark] .colab-df-convert:hover {\n",
              "      background-color: #434B5C;\n",
              "      box-shadow: 0px 1px 3px 1px rgba(0, 0, 0, 0.15);\n",
              "      filter: drop-shadow(0px 1px 2px rgba(0, 0, 0, 0.3));\n",
              "      fill: #FFFFFF;\n",
              "    }\n",
              "  </style>\n",
              "\n",
              "    <script>\n",
              "      const buttonEl =\n",
              "        document.querySelector('#df-0162a039-e745-46a5-9017-e264e98f5bcc button.colab-df-convert');\n",
              "      buttonEl.style.display =\n",
              "        google.colab.kernel.accessAllowed ? 'block' : 'none';\n",
              "\n",
              "      async function convertToInteractive(key) {\n",
              "        const element = document.querySelector('#df-0162a039-e745-46a5-9017-e264e98f5bcc');\n",
              "        const dataTable =\n",
              "          await google.colab.kernel.invokeFunction('convertToInteractive',\n",
              "                                                    [key], {});\n",
              "        if (!dataTable) return;\n",
              "\n",
              "        const docLinkHtml = 'Like what you see? Visit the ' +\n",
              "          '<a target=\"_blank\" href=https://colab.research.google.com/notebooks/data_table.ipynb>data table notebook</a>'\n",
              "          + ' to learn more about interactive tables.';\n",
              "        element.innerHTML = '';\n",
              "        dataTable['output_type'] = 'display_data';\n",
              "        await google.colab.output.renderOutput(dataTable, element);\n",
              "        const docLink = document.createElement('div');\n",
              "        docLink.innerHTML = docLinkHtml;\n",
              "        element.appendChild(docLink);\n",
              "      }\n",
              "    </script>\n",
              "  </div>\n",
              "\n",
              "\n",
              "<div id=\"df-deb54bdd-bbd0-41d2-b49a-467bdfcf253f\">\n",
              "  <button class=\"colab-df-quickchart\" onclick=\"quickchart('df-deb54bdd-bbd0-41d2-b49a-467bdfcf253f')\"\n",
              "            title=\"Suggest charts\"\n",
              "            style=\"display:none;\">\n",
              "\n",
              "<svg xmlns=\"http://www.w3.org/2000/svg\" height=\"24px\"viewBox=\"0 0 24 24\"\n",
              "     width=\"24px\">\n",
              "    <g>\n",
              "        <path d=\"M19 3H5c-1.1 0-2 .9-2 2v14c0 1.1.9 2 2 2h14c1.1 0 2-.9 2-2V5c0-1.1-.9-2-2-2zM9 17H7v-7h2v7zm4 0h-2V7h2v10zm4 0h-2v-4h2v4z\"/>\n",
              "    </g>\n",
              "</svg>\n",
              "  </button>\n",
              "\n",
              "<style>\n",
              "  .colab-df-quickchart {\n",
              "      --bg-color: #E8F0FE;\n",
              "      --fill-color: #1967D2;\n",
              "      --hover-bg-color: #E2EBFA;\n",
              "      --hover-fill-color: #174EA6;\n",
              "      --disabled-fill-color: #AAA;\n",
              "      --disabled-bg-color: #DDD;\n",
              "  }\n",
              "\n",
              "  [theme=dark] .colab-df-quickchart {\n",
              "      --bg-color: #3B4455;\n",
              "      --fill-color: #D2E3FC;\n",
              "      --hover-bg-color: #434B5C;\n",
              "      --hover-fill-color: #FFFFFF;\n",
              "      --disabled-bg-color: #3B4455;\n",
              "      --disabled-fill-color: #666;\n",
              "  }\n",
              "\n",
              "  .colab-df-quickchart {\n",
              "    background-color: var(--bg-color);\n",
              "    border: none;\n",
              "    border-radius: 50%;\n",
              "    cursor: pointer;\n",
              "    display: none;\n",
              "    fill: var(--fill-color);\n",
              "    height: 32px;\n",
              "    padding: 0;\n",
              "    width: 32px;\n",
              "  }\n",
              "\n",
              "  .colab-df-quickchart:hover {\n",
              "    background-color: var(--hover-bg-color);\n",
              "    box-shadow: 0 1px 2px rgba(60, 64, 67, 0.3), 0 1px 3px 1px rgba(60, 64, 67, 0.15);\n",
              "    fill: var(--button-hover-fill-color);\n",
              "  }\n",
              "\n",
              "  .colab-df-quickchart-complete:disabled,\n",
              "  .colab-df-quickchart-complete:disabled:hover {\n",
              "    background-color: var(--disabled-bg-color);\n",
              "    fill: var(--disabled-fill-color);\n",
              "    box-shadow: none;\n",
              "  }\n",
              "\n",
              "  .colab-df-spinner {\n",
              "    border: 2px solid var(--fill-color);\n",
              "    border-color: transparent;\n",
              "    border-bottom-color: var(--fill-color);\n",
              "    animation:\n",
              "      spin 1s steps(1) infinite;\n",
              "  }\n",
              "\n",
              "  @keyframes spin {\n",
              "    0% {\n",
              "      border-color: transparent;\n",
              "      border-bottom-color: var(--fill-color);\n",
              "      border-left-color: var(--fill-color);\n",
              "    }\n",
              "    20% {\n",
              "      border-color: transparent;\n",
              "      border-left-color: var(--fill-color);\n",
              "      border-top-color: var(--fill-color);\n",
              "    }\n",
              "    30% {\n",
              "      border-color: transparent;\n",
              "      border-left-color: var(--fill-color);\n",
              "      border-top-color: var(--fill-color);\n",
              "      border-right-color: var(--fill-color);\n",
              "    }\n",
              "    40% {\n",
              "      border-color: transparent;\n",
              "      border-right-color: var(--fill-color);\n",
              "      border-top-color: var(--fill-color);\n",
              "    }\n",
              "    60% {\n",
              "      border-color: transparent;\n",
              "      border-right-color: var(--fill-color);\n",
              "    }\n",
              "    80% {\n",
              "      border-color: transparent;\n",
              "      border-right-color: var(--fill-color);\n",
              "      border-bottom-color: var(--fill-color);\n",
              "    }\n",
              "    90% {\n",
              "      border-color: transparent;\n",
              "      border-bottom-color: var(--fill-color);\n",
              "    }\n",
              "  }\n",
              "</style>\n",
              "\n",
              "  <script>\n",
              "    async function quickchart(key) {\n",
              "      const quickchartButtonEl =\n",
              "        document.querySelector('#' + key + ' button');\n",
              "      quickchartButtonEl.disabled = true;  // To prevent multiple clicks.\n",
              "      quickchartButtonEl.classList.add('colab-df-spinner');\n",
              "      try {\n",
              "        const charts = await google.colab.kernel.invokeFunction(\n",
              "            'suggestCharts', [key], {});\n",
              "      } catch (error) {\n",
              "        console.error('Error during call to suggestCharts:', error);\n",
              "      }\n",
              "      quickchartButtonEl.classList.remove('colab-df-spinner');\n",
              "      quickchartButtonEl.classList.add('colab-df-quickchart-complete');\n",
              "    }\n",
              "    (() => {\n",
              "      let quickchartButtonEl =\n",
              "        document.querySelector('#df-deb54bdd-bbd0-41d2-b49a-467bdfcf253f button');\n",
              "      quickchartButtonEl.style.display =\n",
              "        google.colab.kernel.accessAllowed ? 'block' : 'none';\n",
              "    })();\n",
              "  </script>\n",
              "</div>\n",
              "\n",
              "    </div>\n",
              "  </div>\n"
            ],
            "text/plain": [
              "   movieID         movieTitle  releaseDate  videoReleaseDate  \\\n",
              "0        1   Toy Story (1995)  01-Jan-1995               NaN   \n",
              "1        2   GoldenEye (1995)  01-Jan-1995               NaN   \n",
              "2        3  Four Rooms (1995)  01-Jan-1995               NaN   \n",
              "3        4  Get Shorty (1995)  01-Jan-1995               NaN   \n",
              "4        5     Copycat (1995)  01-Jan-1995               NaN   \n",
              "\n",
              "                                             IMDbURL  unknown  action  \\\n",
              "0  http://us.imdb.com/M/title-exact?Toy%20Story%2...        0       0   \n",
              "1  http://us.imdb.com/M/title-exact?GoldenEye%20(...        0       1   \n",
              "2  http://us.imdb.com/M/title-exact?Four%20Rooms%...        0       0   \n",
              "3  http://us.imdb.com/M/title-exact?Get%20Shorty%...        0       1   \n",
              "4  http://us.imdb.com/M/title-exact?Copycat%20(1995)        0       0   \n",
              "\n",
              "   adventure  animation  childrens  ...  fantasy  filmNoir  horror  musical  \\\n",
              "0          0          1          1  ...        0         0       0        0   \n",
              "1          1          0          0  ...        0         0       0        0   \n",
              "2          0          0          0  ...        0         0       0        0   \n",
              "3          0          0          0  ...        0         0       0        0   \n",
              "4          0          0          0  ...        0         0       0        0   \n",
              "\n",
              "   mystery  romance  sciFi  thriller  war  western  \n",
              "0        0        0      0         0    0        0  \n",
              "1        0        0      0         1    0        0  \n",
              "2        0        0      0         1    0        0  \n",
              "3        0        0      0         0    0        0  \n",
              "4        0        0      0         1    0        0  \n",
              "\n",
              "[5 rows x 24 columns]"
            ]
          },
          "execution_count": 7,
          "metadata": {},
          "output_type": "execute_result"
        }
      ],
      "source": [
        "fieldsMovies = ['movieID', 'movieTitle', 'releaseDate', 'videoReleaseDate', 'IMDbURL', 'unknown', 'action', 'adventure',\n",
        "          'animation', 'childrens', 'comedy', 'crime', 'documentary', 'drama', 'fantasy', 'filmNoir', 'horror',\n",
        "          'musical', 'mystery', 'romance','sciFi', 'thriller', 'war', 'western']\n",
        "moviesDF = pd.read_csv(os.path.join(MOVIELENS_DIR, 'u.item'), sep='|', names=fieldsMovies, encoding='latin-1')\n",
        "\n",
        "moviesDF.head()"
      ]
    },
    {
      "cell_type": "markdown",
      "metadata": {
        "id": "in-PO-YJuBIJ"
      },
      "source": [
        "Then, we load a train-test split"
      ]
    },
    {
      "cell_type": "code",
      "execution_count": 8,
      "metadata": {
        "colab": {
          "base_uri": "https://localhost:8080/"
        },
        "id": "alHHL0TUuBIK",
        "outputId": "5a2eae15-e9f4-4f15-c0c1-70b4a494c039"
      },
      "outputs": [
        {
          "name": "stdout",
          "output_type": "stream",
          "text": [
            "# of lines in train: 80000\n",
            "# of lines in test: 20000\n"
          ]
        }
      ],
      "source": [
        "trainDF = pd.read_csv(os.path.join(MOVIELENS_DIR, 'u1.base'), sep='\\t', names=fields)\n",
        "testDF = pd.read_csv(os.path.join(MOVIELENS_DIR, 'u1.test'), sep='\\t', names=fields)\n",
        "\n",
        "# test number of records (total should be 100K)\n",
        "print(\"# of lines in train:\", trainDF.shape[0])\n",
        "print(\"# of lines in test:\", testDF.shape[0])"
      ]
    },
    {
      "cell_type": "markdown",
      "metadata": {
        "id": "e-SCgY_KuBIM"
      },
      "source": [
        "## Building User-to-Item Rating Matrix"
      ]
    },
    {
      "cell_type": "code",
      "execution_count": 9,
      "metadata": {
        "id": "pNmPRj_fuBIN"
      },
      "outputs": [],
      "source": [
        "def buildUserItemMatrix(dataset, numUsers, numItems):\n",
        "    # Initialize a of size (numUsers, numItems) to zeros\n",
        "    matrix = np.zeros((numUsers, numItems), dtype=np.int8)\n",
        "\n",
        "    # Populate the matrix based on the dataset\n",
        "    for (index, userID, itemID, rating, timestamp) in dataset.itertuples():\n",
        "        matrix[userID-1, itemID-1] = rating\n",
        "    return matrix"
      ]
    },
    {
      "cell_type": "markdown",
      "metadata": {
        "id": "DBdieNpa-zlz"
      },
      "source": []
    },
    {
      "cell_type": "code",
      "execution_count": 10,
      "metadata": {
        "id": "4z5K0ZyLuBIP"
      },
      "outputs": [],
      "source": [
        "trainUserItemMatrix = buildUserItemMatrix(trainDF, numUsers, numItems)\n",
        "testUserItemMatrix = buildUserItemMatrix(testDF, numUsers, numItems)"
      ]
    },
    {
      "cell_type": "code",
      "execution_count": 11,
      "metadata": {
        "colab": {
          "base_uri": "https://localhost:8080/"
        },
        "id": "pxhqF8O_uBIS",
        "outputId": "a64b2eb7-260c-4864-815b-5fada9b9e453"
      },
      "outputs": [
        {
          "data": {
            "text/plain": [
              "array([[5, 3, 4, ..., 0, 0, 0],\n",
              "       [4, 0, 0, ..., 0, 0, 0],\n",
              "       [0, 0, 0, ..., 0, 0, 0],\n",
              "       ...,\n",
              "       [5, 0, 0, ..., 0, 0, 0],\n",
              "       [0, 0, 0, ..., 0, 0, 0],\n",
              "       [0, 5, 0, ..., 0, 0, 0]], dtype=int8)"
            ]
          },
          "execution_count": 11,
          "metadata": {},
          "output_type": "execute_result"
        }
      ],
      "source": [
        "# Inspect the train matrix\n",
        "# What's the shape of this matrix\n",
        "# Let's say the number of users is U and the number of items is I, I will ask you the dimensions of some matrixes in this lab\n",
        "trainUserItemMatrix"
      ]
    },
    {
      "cell_type": "markdown",
      "metadata": {
        "id": "F1Ua_y85uBIU"
      },
      "source": [
        "## Baseline solution - Average User Rating"
      ]
    },
    {
      "cell_type": "code",
      "execution_count": 12,
      "metadata": {
        "id": "Tw-UoakQuBIV"
      },
      "outputs": [],
      "source": [
        "\n",
        "def predictByUserAverage(trainSet, numUsers, numItems):\n",
        "    # Initialize the predicted rating matrix with zeros\n",
        "    predictionMatrix = np.zeros((numUsers, numItems))\n",
        "    zero_preds = 0\n",
        "\n",
        "    for (user,item), rating in np.ndenumerate(trainSet):\n",
        "        # Predict rating for every item that wasn't ranked by the user (rating == 0)\n",
        "        if rating == 0:\n",
        "            # select the row for user\n",
        "            # what's the shape of userVector\n",
        "            userVector = trainSet[user, :]\n",
        "\n",
        "            # Extract the items the user already rated\n",
        "            ratedItems = userVector[userVector.nonzero()]\n",
        "\n",
        "            # If not empty, calculate average and set as rating for the current item\n",
        "            # If empty, use the average rating for the item\n",
        "            if ratedItems.size == 0:\n",
        "                itemVector = trainSet[:, item]\n",
        "                ratedUsers = itemVector[itemVector.nonzero()]\n",
        "                itemAvg = ratedUsers.mean()\n",
        "            else:\n",
        "                itemAvg = ratedItems.mean()\n",
        "            predictionMatrix[user, item] = itemAvg\n",
        "            # If still no prediction is provided, use the global average rating\n",
        "            if predictionMatrix[user, item] == 0:\n",
        "              predictionMatrix[user, item] = trainSet[trainSet != 0].mean()\n",
        "\n",
        "\n",
        "        # report progress every 100 users\n",
        "        if (user % 100 == 0 and item == 1):\n",
        "            print (\"calculated %d users\" % (user,))\n",
        "\n",
        "    return predictionMatrix"
      ]
    },
    {
      "cell_type": "code",
      "execution_count": 13,
      "metadata": {
        "colab": {
          "base_uri": "https://localhost:8080/"
        },
        "id": "sI98tM8kuBIX",
        "outputId": "4567953a-0baf-4e12-a3dc-9bec994c6371"
      },
      "outputs": [
        {
          "name": "stdout",
          "output_type": "stream",
          "text": [
            "calculated 0 users\n",
            "calculated 100 users\n",
            "calculated 200 users\n",
            "calculated 300 users\n",
            "calculated 400 users\n",
            "calculated 500 users\n",
            "calculated 600 users\n",
            "calculated 700 users\n",
            "calculated 800 users\n",
            "calculated 900 users\n"
          ]
        }
      ],
      "source": [
        "userAvgPreiction = predictByUserAverage(trainUserItemMatrix, numUsers, numItems)"
      ]
    },
    {
      "cell_type": "markdown",
      "metadata": {
        "id": "cZlEyNTQuBIZ"
      },
      "source": [
        "## How well did we do?"
      ]
    },
    {
      "cell_type": "code",
      "execution_count": 14,
      "metadata": {
        "id": "a-96QIcmuBIa"
      },
      "outputs": [],
      "source": [
        "def rmse(pred, test):\n",
        "    # calculate RMSE for all the items in the test dataset\n",
        "    predItems = pred[test.nonzero()].flatten()\n",
        "    testItems = test[test.nonzero()].flatten()\n",
        "    return sqrt(mean_squared_error(predItems, testItems))"
      ]
    },
    {
      "cell_type": "code",
      "execution_count": 15,
      "metadata": {
        "colab": {
          "base_uri": "https://localhost:8080/"
        },
        "id": "cOycD_SWuBIc",
        "outputId": "4b9655d6-970d-4de7-b187-884d4dbb469e"
      },
      "outputs": [
        {
          "data": {
            "text/plain": [
              "1.0629951276561334"
            ]
          },
          "execution_count": 15,
          "metadata": {},
          "output_type": "execute_result"
        }
      ],
      "source": [
        "rmse(userAvgPreiction, testUserItemMatrix)"
      ]
    },
    {
      "cell_type": "markdown",
      "metadata": {
        "id": "6XAk61j7uBIf"
      },
      "source": [
        "## User-User Similarity"
      ]
    },
    {
      "cell_type": "markdown",
      "metadata": {
        "id": "fb9KC7BquBIg"
      },
      "source": [
        "### Question: why do we divide the result by the sum of similaries?"
      ]
    },
    {
      "cell_type": "code",
      "execution_count": 16,
      "metadata": {
        "id": "pLIEJFVAuBIh"
      },
      "outputs": [],
      "source": [
        "userSimilarity = 1 - pairwise_distances(trainUserItemMatrix, metric='cosine')"
      ]
    },
    {
      "cell_type": "code",
      "execution_count": 17,
      "metadata": {
        "colab": {
          "base_uri": "https://localhost:8080/"
        },
        "id": "PiCRFVMCuBIk",
        "outputId": "8987d1f7-7dd5-4004-efc0-cb3a154113ea"
      },
      "outputs": [
        {
          "data": {
            "text/plain": [
              "array([[1.        , 0.09702087, 0.05246924, ..., 0.15815144, 0.13309031,\n",
              "        0.25277792],\n",
              "       [0.09702087, 1.        , 0.05134808, ..., 0.13280638, 0.1265973 ,\n",
              "        0.10178363],\n",
              "       [0.05246924, 0.05134808, 1.        , ..., 0.08353707, 0.08122974,\n",
              "        0.01967584],\n",
              "       ...,\n",
              "       [0.15815144, 0.13280638, 0.08353707, ..., 1.        , 0.1016418 ,\n",
              "        0.09511958],\n",
              "       [0.13309031, 0.1265973 , 0.08122974, ..., 0.1016418 , 1.        ,\n",
              "        0.18246466],\n",
              "       [0.25277792, 0.10178363, 0.01967584, ..., 0.09511958, 0.18246466,\n",
              "        1.        ]])"
            ]
          },
          "execution_count": 17,
          "metadata": {},
          "output_type": "execute_result"
        }
      ],
      "source": [
        "userSimilarity"
      ]
    },
    {
      "cell_type": "code",
      "execution_count": 18,
      "metadata": {
        "id": "6Tw6dj9xuBIo"
      },
      "outputs": [],
      "source": [
        "def kNearestNeighbor(sim, k):\n",
        "    sim = sim.copy()\n",
        "    m,n = sim.shape\n",
        "    for i in range(m):\n",
        "        # only keep the k largest number\n",
        "        sim[i, sim[i].argsort()[:-k]] = 0\n",
        "    return sim"
      ]
    },
    {
      "cell_type": "code",
      "execution_count": 19,
      "metadata": {
        "id": "cNtddvMXuBIq"
      },
      "outputs": [],
      "source": [
        "userSimilarity=kNearestNeighbor(userSimilarity, 50)"
      ]
    },
    {
      "cell_type": "code",
      "execution_count": 20,
      "metadata": {
        "colab": {
          "base_uri": "https://localhost:8080/"
        },
        "id": "vzk2E4XvExJO",
        "outputId": "822dedc2-40f1-424f-db73-b60a84793d62"
      },
      "outputs": [
        {
          "data": {
            "text/plain": [
              "50"
            ]
          },
          "execution_count": 20,
          "metadata": {},
          "output_type": "execute_result"
        }
      ],
      "source": [
        "np.count_nonzero(userSimilarity[0])"
      ]
    },
    {
      "cell_type": "code",
      "execution_count": 39,
      "metadata": {
        "id": "gTnW-ZBsuBIu"
      },
      "outputs": [],
      "source": [
        "def predictByUserSimilarity(trainSet, numUsers, numItems, similarity, k=None):\n",
        "    all_similarity = similarity.copy()\n",
        "    if k is not None:\n",
        "        similarity = kNearestNeighbor(similarity, k)\n",
        "\n",
        "\n",
        "    # Initialize the predicted rating matrix with zeros\n",
        "    predictionMatrix = np.zeros((numUsers, numItems))\n",
        "\n",
        "    for (user,item), rating in np.ndenumerate(trainSet):\n",
        "\n",
        "        # Predict rating for every item that wasn't ranked by the user (rating == 0)\n",
        "        if rating == 0:\n",
        "            # Extract the users that provided rating for this item\n",
        "            # shape of itemVector\n",
        "            itemVector = trainSet[:,item]\n",
        "            usersRatings = itemVector[itemVector.nonzero()]\n",
        "\n",
        "            # Get the similarity score for each of the users that provided rating for this item\n",
        "            # what's the shape of similarity, similarity[user,:]\n",
        "\n",
        "            # considering only top k similar users\n",
        "            usersSim = similarity[user,:][itemVector.nonzero()]\n",
        "            # considering similarities of all users\n",
        "            all_usersSim = all_similarity[user,:][itemVector.nonzero()]\n",
        "\n",
        "\n",
        "            # If there are no similar users that ranked this item, use user's average\n",
        "            if usersSim.sum() == 0:\n",
        "                userVector = trainSet[user, :]\n",
        "                ratedItems = userVector[userVector.nonzero()]\n",
        "\n",
        "                # If the user didn't rate any item (cold start user) use item average, otherwise use user average\n",
        "                if len(ratedItems) == 0:\n",
        "                    predictionMatrix[user,item] = usersRatings.mean()\n",
        "                else:\n",
        "                    predictionMatrix[user,item] = ratedItems.mean()\n",
        "            else:\n",
        "                # predict score based on user-user similarity\n",
        "                predictionMatrix[user,item] = (usersRatings*usersSim).sum() / usersSim.sum()\n",
        "        # If both the user and item are cold-start, we use the overall average rating of all items\n",
        "\n",
        "            if predictionMatrix[user,item] == 0:\n",
        "                predictionMatrix[user,item]= predictionMatrix[predictionMatrix.nonzero()].mean()\n",
        "\n",
        "\n",
        "        # report progress every 100 users\n",
        "        if (user % 100 == 0 and item == 1):\n",
        "            print (\"calculated %d users\" % (user,))\n",
        "\n",
        "    return predictionMatrix"
      ]
    },
    {
      "cell_type": "code",
      "execution_count": 40,
      "metadata": {
        "colab": {
          "base_uri": "https://localhost:8080/"
        },
        "id": "j8bZRnPAuBIw",
        "outputId": "0fcd5461-2be4-42de-f451-9cd8699a1240"
      },
      "outputs": [
        {
          "name": "stdout",
          "output_type": "stream",
          "text": [
            "calculated 0 users\n",
            "calculated 100 users\n",
            "calculated 200 users\n",
            "calculated 300 users\n",
            "calculated 400 users\n",
            "calculated 500 users\n",
            "calculated 600 users\n",
            "calculated 700 users\n",
            "calculated 800 users\n",
            "calculated 900 users\n"
          ]
        }
      ],
      "source": [
        "userSimPrediction = predictByUserSimilarity(trainUserItemMatrix, numUsers, numItems, userSimilarity, 50)"
      ]
    },
    {
      "cell_type": "code",
      "execution_count": 41,
      "metadata": {
        "id": "5uMCsK12dszI"
      },
      "outputs": [],
      "source": [
        "pred = userSimPrediction\n",
        "test = testUserItemMatrix\n",
        "\n",
        "predItems = pred[test.nonzero()].flatten()\n",
        "testItems = test[test.nonzero()].flatten()"
      ]
    },
    {
      "cell_type": "code",
      "execution_count": 42,
      "metadata": {
        "colab": {
          "base_uri": "https://localhost:8080/"
        },
        "id": "hX0ZET66uBIy",
        "outputId": "3996b76e-b7cc-4f31-d52e-6905e774e814"
      },
      "outputs": [
        {
          "data": {
            "text/plain": [
              "1.043445984837689"
            ]
          },
          "execution_count": 42,
          "metadata": {},
          "output_type": "execute_result"
        }
      ],
      "source": [
        "rmse(userSimPrediction, testUserItemMatrix)"
      ]
    },
    {
      "cell_type": "markdown",
      "metadata": {
        "id": "gWwzkfPIuBI0"
      },
      "source": [
        "## Vectorized Version"
      ]
    },
    {
      "cell_type": "code",
      "execution_count": 66,
      "metadata": {
        "id": "YuoEwUAouBI0"
      },
      "outputs": [],
      "source": [
        "\n",
        "def vectorizedUserSimRecSys(trainSet, k=None):\n",
        "    # Initialize the predicted rating matrix with zeros\n",
        "    temp_matrix = np.zeros(trainSet.shape)\n",
        "    temp_matrix[trainSet.nonzero()] = 1\n",
        "    uu_similarity = 1 - pairwise_distances(trainSet, metric='cosine')\n",
        "    if k is not None:\n",
        "        uu_similarity = kNearestNeighbor(uu_similarity, k)\n",
        "    # UxI: UxU mul UxI\n",
        "    normalizer = np.matmul(uu_similarity, temp_matrix)\n",
        "\n",
        "    #normalizer[normalizer == 0] = 1e-5\n",
        "    normalizer_safe = np.where(normalizer == 0, np.nan, normalizer)\n",
        "    #what's the dimension of np.matmul(uu_similarity, trainSet)?\n",
        "\n",
        "    predictionMatrix = np.matmul(uu_similarity, trainSet)/normalizer_safe\n",
        "\n",
        "    # if no similar users had rated the item, corresponding entries in predictionMatrix are nan, we will replace them by user average\n",
        "    train_set_nan = np.where(trainSet == 0, np.nan, trainSet)\n",
        "    user_averages = np.nanmean(train_set_nan, axis=1)\n",
        "    warm_users = ~np.isnan(user_averages)\n",
        "    predictionMatrix[np.isnan(predictionMatrix) & warm_users[:, np.newaxis]] = np.take(user_averages, np.where(np.isnan(predictionMatrix) & warm_users[:, np.newaxis])[0])\n",
        "\n",
        "    # if the user had not rated any items (cold start user), we use item average\n",
        "    item_averages = np.nanmean(train_set_nan, axis=0)\n",
        "    warm_items = ~np.isnan(item_averages)\n",
        "    predictionMatrix[np.isnan(predictionMatrix) & warm_items] = np.take(item_averages, np.where(np.isnan(predictionMatrix) & warm_items)[1])\n",
        "\n",
        "    # if the item is both user and item cold, we use global average in the train set\n",
        "    global_average = np.nanmean(train_set_nan)\n",
        "    predictionMatrix[np.isnan(predictionMatrix)] = global_average\n",
        "\n",
        "    return predictionMatrix"
      ]
    },
    {
      "cell_type": "code",
      "execution_count": 67,
      "metadata": {
        "colab": {
          "base_uri": "https://localhost:8080/"
        },
        "id": "4WhVh4yCuBI2",
        "outputId": "2f497995-9a02-4c74-96ed-1cd86a0e69f2"
      },
      "outputs": [
        {
          "name": "stdout",
          "output_type": "stream",
          "text": [
            "[[3.95768482 3.07884915 2.95870738 ... 3.68148148 3.         3.        ]\n",
            " [3.84711903 3.8        2.00999946 ... 3.8        3.8        3.8       ]\n",
            " [4.         3.         3.         ... 2.         3.         3.        ]\n",
            " ...\n",
            " [3.89075627 4.04545455 3.33135748 ... 4.04545455 4.04545455 4.04545455]\n",
            " [3.9933765  3.66514556 2.65346589 ... 4.26582278 4.26582278 4.26582278]\n",
            " [4.07279746 3.40602568 3.42834447 ... 3.41071429 3.         3.        ]]\n"
          ]
        },
        {
          "name": "stderr",
          "output_type": "stream",
          "text": [
            "<ipython-input-66-478df46ced4c>:24: RuntimeWarning: Mean of empty slice\n",
            "  item_averages = np.nanmean(train_set_nan, axis=0)\n"
          ]
        }
      ],
      "source": [
        "userSimPrediction = vectorizedUserSimRecSys(trainUserItemMatrix, k=50)\n",
        "print(userSimPrediction)"
      ]
    },
    {
      "cell_type": "code",
      "execution_count": 68,
      "metadata": {
        "colab": {
          "base_uri": "https://localhost:8080/"
        },
        "id": "b4NATqnUuBI3",
        "outputId": "9d04a26a-b0a6-40ee-b433-e69c68b251ee"
      },
      "outputs": [
        {
          "data": {
            "text/plain": [
              "1.043445984837689"
            ]
          },
          "execution_count": 68,
          "metadata": {},
          "output_type": "execute_result"
        }
      ],
      "source": [
        "rmse(userSimPrediction, testUserItemMatrix)"
      ]
    },
    {
      "cell_type": "markdown",
      "metadata": {
        "id": "hIw3GrBxuBI6"
      },
      "source": [
        "## Precision@k and Recall@k"
      ]
    },
    {
      "cell_type": "markdown",
      "metadata": {
        "id": "v3znUo3puBI7"
      },
      "source": [
        "### Question: where does the K come from?"
      ]
    },
    {
      "cell_type": "code",
      "execution_count": 69,
      "metadata": {
        "id": "6KsaO--TuBI8"
      },
      "outputs": [],
      "source": [
        "def avgPrecisionAtK(testSet, prediction, k):\n",
        "    # Initialize sum and count vars for average calculation\n",
        "    sumPrecisions = 0\n",
        "    countPrecisions = 0\n",
        "\n",
        "    # Define function for converting 1-5 rating to 0/1 (like / don't like)\n",
        "    vf = np.vectorize(lambda x: 1 if x >= 4 else 0)\n",
        "\n",
        "    for userID in range(numUsers):\n",
        "        # Pick top K based on predicted rating\n",
        "        userVector = prediction[userID,:]\n",
        "        #print(userVector)\n",
        "        topK = nlargest(k, range(len(userVector)), userVector.take)\n",
        "        #print(topK)\n",
        "        # Convert test set ratings to like / don't like\n",
        "        userTestVector = vf(testSet[userID,:]).nonzero()[0]\n",
        "        #print(vf(testSet[userID,:]).nonzero())\n",
        "        # Ignore user if has no ratings in the test set\n",
        "        if (len(userTestVector) == 0):\n",
        "            continue\n",
        "\n",
        "        # Calculate precision\n",
        "        precision = float(len([item for item in topK if item in userTestVector]))/len(topK)\n",
        "\n",
        "        # Update sum and count\n",
        "        sumPrecisions += precision\n",
        "        countPrecisions += 1\n",
        "\n",
        "    # Return average P@k\n",
        "    return float(sumPrecisions)/countPrecisions"
      ]
    },
    {
      "cell_type": "code",
      "execution_count": 70,
      "metadata": {
        "id": "uzDXyi_NuBI-"
      },
      "outputs": [],
      "source": [
        "def avgRecallAtK(testSet, prediction, k):\n",
        "    # Initialize sum and count vars for average calculation\n",
        "    sumRecalls = 0\n",
        "    countRecalls = 0\n",
        "\n",
        "    # Define function for converting 1-5 rating to 0/1 (like / don't like)\n",
        "    vf = np.vectorize(lambda x: 1 if x >= 4 else 0)\n",
        "\n",
        "    for userID in range(numUsers):\n",
        "        # Pick top K based on predicted rating\n",
        "        userVector = prediction[userID,:]\n",
        "        topK = nlargest(k, range(len(userVector)), userVector.take)\n",
        "\n",
        "        # Convert test set ratings to like / don't like\n",
        "        userTestVector = vf(testSet[userID,:]).nonzero()[0]\n",
        "\n",
        "        # Ignore user if has no ratings in the test set\n",
        "        if (len(userTestVector) == 0):\n",
        "            continue\n",
        "\n",
        "        # Calculate recall\n",
        "        recall = float(len([item for item in topK if item in userTestVector]))/len(userTestVector)\n",
        "\n",
        "        # Update sum and count\n",
        "        sumRecalls += recall\n",
        "        countRecalls += 1\n",
        "\n",
        "    # Return average R@k\n",
        "    return float(sumRecalls)/countRecalls"
      ]
    },
    {
      "cell_type": "code",
      "execution_count": 71,
      "metadata": {
        "colab": {
          "base_uri": "https://localhost:8080/"
        },
        "id": "rlfzIjVnuBJA",
        "outputId": "c2a67609-0cc5-4eef-eb5c-ce66a4f1d23e"
      },
      "outputs": [
        {
          "name": "stdout",
          "output_type": "stream",
          "text": [
            "k\tP@k\tR@k\n",
            "25\t0.018\t0.026\n",
            "50\t0.037\t0.089\n",
            "100\t0.049\t0.242\n",
            "250\t0.037\t0.440\n",
            "500\t0.026\t0.571\n"
          ]
        }
      ],
      "source": [
        "print(\"k\\tP@k\\tR@k\")\n",
        "for k in [25, 50, 100, 250, 500]:\n",
        "    print(\"%d\\t%.3lf\\t%.3lf\" % (k, avgPrecisionAtK(testUserItemMatrix, userSimPrediction, k), avgRecallAtK(testUserItemMatrix, userSimPrediction, k)))"
      ]
    },
    {
      "cell_type": "code",
      "execution_count": 72,
      "metadata": {
        "colab": {
          "base_uri": "https://localhost:8080/"
        },
        "id": "Hfyfg8iLuBJC",
        "outputId": "a40a596b-b6c2-4f76-f6b2-0d21914457b0"
      },
      "outputs": [
        {
          "data": {
            "text/plain": [
              "array([[3.95768482, 3.07884915, 2.95870738, ..., 3.68148148, 3.        ,\n",
              "        3.        ],\n",
              "       [3.84711903, 3.8       , 2.00999946, ..., 3.8       , 3.8       ,\n",
              "        3.8       ],\n",
              "       [4.        , 3.        , 3.        , ..., 2.        , 3.        ,\n",
              "        3.        ],\n",
              "       ...,\n",
              "       [3.89075627, 4.04545455, 3.33135748, ..., 4.04545455, 4.04545455,\n",
              "        4.04545455],\n",
              "       [3.9933765 , 3.66514556, 2.65346589, ..., 4.26582278, 4.26582278,\n",
              "        4.26582278],\n",
              "       [4.07279746, 3.40602568, 3.42834447, ..., 3.41071429, 3.        ,\n",
              "        3.        ]])"
            ]
          },
          "execution_count": 72,
          "metadata": {},
          "output_type": "execute_result"
        }
      ],
      "source": [
        "userSimPrediction"
      ]
    },
    {
      "cell_type": "code",
      "execution_count": 73,
      "metadata": {
        "colab": {
          "base_uri": "https://localhost:8080/"
        },
        "id": "HsT_4vd5uBJF",
        "outputId": "bd224b75-92df-4c2f-e674-f1e5d3325707"
      },
      "outputs": [
        {
          "data": {
            "text/plain": [
              "array([0, 0, 0, ..., 0, 0, 0], dtype=int8)"
            ]
          },
          "execution_count": 73,
          "metadata": {},
          "output_type": "execute_result"
        }
      ],
      "source": [
        "testUserItemMatrix[0]"
      ]
    },
    {
      "cell_type": "markdown",
      "metadata": {
        "collapsed": true,
        "id": "Q653TiTFuBJH"
      },
      "source": [
        "## Popularity Based Recommendations"
      ]
    },
    {
      "cell_type": "code",
      "execution_count": 74,
      "metadata": {
        "id": "jBZcFeYJuBJH"
      },
      "outputs": [],
      "source": [
        "def predictByPopularity(trainSet, numUsers, numItems):\n",
        "    # Initialize the predicted rating matrix with zeros\n",
        "    predictionMatrix = np.zeros((numUsers, numItems))\n",
        "\n",
        "    # Define function for converting 1-5 rating to 0/1 (like / don't like)\n",
        "    vf = np.vectorize(lambda x: 1 if x >= 4 else 0)\n",
        "\n",
        "    # For every item calculate the number of people liked (4-5) divided by the number of people that rated\n",
        "    itemPopularity = np.zeros((numItems))\n",
        "    for item in range(numItems):\n",
        "        numOfUsersRated = len(trainSet[:, item].nonzero()[0])\n",
        "        numOfUsersLiked = len(vf(trainSet[:, item]).nonzero()[0])\n",
        "        if numOfUsersRated == 0:\n",
        "            itemPopularity[item] = 0\n",
        "        else:\n",
        "            itemPopularity[item] = numOfUsersLiked/numOfUsersRated\n",
        "\n",
        "    for (user,item), rating in np.ndenumerate(trainSet):\n",
        "        # Predict rating for every item that wasn't ranked by the user (rating == 0)\n",
        "        if rating == 0:\n",
        "            predictionMatrix[user, item] = itemPopularity[item]\n",
        "\n",
        "        # report progress every 100 users\n",
        "        if (user % 100 == 0 and item == 1):\n",
        "            print (\"calculated %d users\" % (user,))\n",
        "\n",
        "    return predictionMatrix"
      ]
    },
    {
      "cell_type": "code",
      "execution_count": 75,
      "metadata": {
        "colab": {
          "base_uri": "https://localhost:8080/"
        },
        "id": "-wjmSP8fuBJJ",
        "outputId": "b471c4d0-a2df-4221-d63f-3648028b8bdf"
      },
      "outputs": [
        {
          "name": "stdout",
          "output_type": "stream",
          "text": [
            "calculated 0 users\n",
            "calculated 100 users\n",
            "calculated 200 users\n",
            "calculated 300 users\n",
            "calculated 400 users\n",
            "calculated 500 users\n",
            "calculated 600 users\n",
            "calculated 700 users\n",
            "calculated 800 users\n",
            "calculated 900 users\n"
          ]
        }
      ],
      "source": [
        "popPreiction = predictByPopularity(trainUserItemMatrix, numUsers, numItems)"
      ]
    },
    {
      "cell_type": "code",
      "execution_count": 76,
      "metadata": {
        "colab": {
          "base_uri": "https://localhost:8080/"
        },
        "id": "p-miubz2uBJL",
        "outputId": "01653695-ccf1-4e8d-f4c2-695f9a2d765a"
      },
      "outputs": [
        {
          "name": "stdout",
          "output_type": "stream",
          "text": [
            "k\tP@k\tR@k\n",
            "25\t0.001\t0.000\n",
            "50\t0.009\t0.015\n",
            "100\t0.039\t0.155\n",
            "250\t0.043\t0.400\n",
            "500\t0.036\t0.688\n"
          ]
        }
      ],
      "source": [
        "print(\"k\\tP@k\\tR@k\")\n",
        "for k in [25, 50, 100, 250, 500]:\n",
        "    print(\"%d\\t%.3lf\\t%.3lf\" % (k, avgPrecisionAtK(testUserItemMatrix, popPreiction, k), avgRecallAtK(testUserItemMatrix, popPreiction, k)))"
      ]
    },
    {
      "cell_type": "markdown",
      "metadata": {
        "id": "w_KkZ2LYuBJM"
      },
      "source": [
        "## Making Recommendations for a User"
      ]
    },
    {
      "cell_type": "code",
      "execution_count": 77,
      "metadata": {
        "id": "eUyHhPR1uBJN"
      },
      "outputs": [],
      "source": [
        "def userTopK(prediction, moviesDataset, userID, k):\n",
        "    # Pick top K based on predicted rating\n",
        "    userVector = prediction[userID-1,:]\n",
        "    topK = nlargest(k, range(len(userVector)), userVector.take)\n",
        "    namesTopK = list(map(lambda x: moviesDataset[moviesDataset.movieID == x+1][\"movieTitle\"].values[0], topK))\n",
        "    return namesTopK"
      ]
    },
    {
      "cell_type": "code",
      "execution_count": 78,
      "metadata": {
        "colab": {
          "base_uri": "https://localhost:8080/"
        },
        "id": "K8y-St6cuBJP",
        "outputId": "219acd20-75bf-40b4-af47-ea9136eae49b"
      },
      "outputs": [
        {
          "data": {
            "text/plain": [
              "['Loch Ness (1995)',\n",
              " 'Perfect Candidate, A (1996)',\n",
              " 'Love and Death on Long Island (1997)',\n",
              " 'Crossfire (1947)',\n",
              " 'Celestial Clockwork (1994)',\n",
              " 'They Made Me a Criminal (1939)',\n",
              " 'Last Time I Saw Paris, The (1954)',\n",
              " 'Innocents, The (1961)',\n",
              " \"Jupiter's Wife (1994)\",\n",
              " 'Prefontaine (1997)']"
            ]
          },
          "execution_count": 78,
          "metadata": {},
          "output_type": "execute_result"
        }
      ],
      "source": [
        "# recommend for userID 350 according to popularity recommender\n",
        "userTopK(popPreiction, moviesDF, 350, 10)"
      ]
    },
    {
      "cell_type": "code",
      "execution_count": 79,
      "metadata": {
        "colab": {
          "base_uri": "https://localhost:8080/"
        },
        "id": "NP963kQFuBJS",
        "outputId": "d19f8841-3942-4498-e572-845d66faeedb"
      },
      "outputs": [
        {
          "data": {
            "text/plain": [
              "['Toy Story (1995)',\n",
              " 'GoldenEye (1995)',\n",
              " 'Four Rooms (1995)',\n",
              " 'Get Shorty (1995)',\n",
              " 'Copycat (1995)',\n",
              " 'Shanghai Triad (Yao a yao yao dao waipo qiao) (1995)',\n",
              " 'Twelve Monkeys (1995)',\n",
              " 'Babe (1995)',\n",
              " 'Dead Man Walking (1995)',\n",
              " 'Richard III (1995)']"
            ]
          },
          "execution_count": 79,
          "metadata": {},
          "output_type": "execute_result"
        }
      ],
      "source": [
        "# recommend for userID 350 according to average rating recommender\n",
        "userTopK(userAvgPreiction, moviesDF, 350, 10)"
      ]
    },
    {
      "cell_type": "code",
      "execution_count": 80,
      "metadata": {
        "colab": {
          "base_uri": "https://localhost:8080/"
        },
        "id": "dX2PvVLnuBJU",
        "outputId": "50fda73e-c482-4da9-c18b-5a41059c60ad"
      },
      "outputs": [
        {
          "data": {
            "text/plain": [
              "['Priest (1994)',\n",
              " 'Stalingrad (1993)',\n",
              " 'Seven Years in Tibet (1997)',\n",
              " 'Ruling Class, The (1972)',\n",
              " 'Arrival, The (1996)',\n",
              " 'Garden of Finzi-Contini, The (Giardino dei Finzi-Contini, Il) (1970)',\n",
              " 'Year of the Horse (1997)',\n",
              " 'Dead Man (1995)',\n",
              " 'Chain Reaction (1996)',\n",
              " 'Unstrung Heroes (1995)']"
            ]
          },
          "execution_count": 80,
          "metadata": {},
          "output_type": "execute_result"
        }
      ],
      "source": [
        "# recommend for userID 350 according to user similarity recommender\n",
        "userTopK(userSimPrediction, moviesDF, 350, 10)"
      ]
    },
    {
      "cell_type": "markdown",
      "metadata": {
        "id": "XitY5X5euBJW"
      },
      "source": [
        "## Evaluating the other datasets"
      ]
    },
    {
      "cell_type": "code",
      "execution_count": 81,
      "metadata": {
        "id": "MOwB5IyCuBJW"
      },
      "outputs": [],
      "source": [
        "datasetsFileNames = [('u2.base', 'u2.test'),\n",
        "                     ('u3.base', 'u3.test'),\n",
        "                     ('u4.base', 'u4.test'),\n",
        "                     ('u5.base', 'u5.test')]"
      ]
    },
    {
      "cell_type": "code",
      "execution_count": 82,
      "metadata": {
        "colab": {
          "base_uri": "https://localhost:8080/"
        },
        "id": "ax29QxLHuBJY",
        "outputId": "592957d8-36a4-4150-9c67-656e616bf5df",
        "scrolled": true
      },
      "outputs": [
        {
          "name": "stdout",
          "output_type": "stream",
          "text": [
            "calculated 0 users\n",
            "calculated 100 users\n",
            "calculated 200 users\n",
            "calculated 300 users\n",
            "calculated 400 users\n",
            "calculated 500 users\n",
            "calculated 600 users\n",
            "calculated 700 users\n",
            "calculated 800 users\n",
            "calculated 900 users\n",
            "calculated 0 users\n",
            "calculated 100 users\n",
            "calculated 200 users\n",
            "calculated 300 users\n",
            "calculated 400 users\n",
            "calculated 500 users\n",
            "calculated 600 users\n",
            "calculated 700 users\n",
            "calculated 800 users\n",
            "calculated 900 users\n",
            "calculated 0 users\n",
            "calculated 100 users\n",
            "calculated 200 users\n",
            "calculated 300 users\n",
            "calculated 400 users\n",
            "calculated 500 users\n",
            "calculated 600 users\n",
            "calculated 700 users\n",
            "calculated 800 users\n",
            "calculated 900 users\n",
            "calculated 0 users\n",
            "calculated 100 users\n",
            "calculated 200 users\n",
            "calculated 300 users\n",
            "calculated 400 users\n",
            "calculated 500 users\n",
            "calculated 600 users\n",
            "calculated 700 users\n",
            "calculated 800 users\n",
            "calculated 900 users\n",
            "calculated 0 users\n",
            "calculated 100 users\n",
            "calculated 200 users\n",
            "calculated 300 users\n",
            "calculated 400 users\n",
            "calculated 500 users\n",
            "calculated 600 users\n",
            "calculated 700 users\n",
            "calculated 800 users\n",
            "calculated 900 users\n",
            "calculated 0 users\n",
            "calculated 100 users\n",
            "calculated 200 users\n",
            "calculated 300 users\n",
            "calculated 400 users\n",
            "calculated 500 users\n",
            "calculated 600 users\n",
            "calculated 700 users\n",
            "calculated 800 users\n",
            "calculated 900 users\n",
            "calculated 0 users\n",
            "calculated 100 users\n",
            "calculated 200 users\n",
            "calculated 300 users\n",
            "calculated 400 users\n",
            "calculated 500 users\n",
            "calculated 600 users\n",
            "calculated 700 users\n",
            "calculated 800 users\n",
            "calculated 900 users\n",
            "calculated 0 users\n",
            "calculated 100 users\n",
            "calculated 200 users\n",
            "calculated 300 users\n",
            "calculated 400 users\n",
            "calculated 500 users\n",
            "calculated 600 users\n",
            "calculated 700 users\n",
            "calculated 800 users\n",
            "calculated 900 users\n"
          ]
        }
      ],
      "source": [
        "rmseList = []\n",
        "for trainFileName, testFileName in datasetsFileNames:\n",
        "    curTrainDF = pd.read_csv(os.path.join(MOVIELENS_DIR, trainFileName), sep='\\t', names=fields)\n",
        "    curTestDF = pd.read_csv(os.path.join(MOVIELENS_DIR, testFileName), sep='\\t', names=fields)\n",
        "    curTrainUserItemMatrix = buildUserItemMatrix(curTrainDF, numUsers, numItems)\n",
        "    curTestUserItemMatrix = buildUserItemMatrix(curTestDF, numUsers, numItems)\n",
        "    #prediction with average\n",
        "    curUserAvgPreiction = predictByUserAverage(curTrainUserItemMatrix, numUsers, numItems)\n",
        "    avgRMSE = rmse(curUserAvgPreiction, curTestUserItemMatrix)\n",
        "    #prediction with similarity\n",
        "    curUserSimilarity = 1 - pairwise_distances(curTrainUserItemMatrix, metric='cosine')\n",
        "    curUserSimPreiction = predictByUserSimilarity(curTrainUserItemMatrix, numUsers, numItems, curUserSimilarity)\n",
        "    simRMSE = rmse(curUserSimPreiction, curTestUserItemMatrix)\n",
        "\n",
        "    rmseList.append((avgRMSE, simRMSE))"
      ]
    },
    {
      "cell_type": "code",
      "execution_count": 83,
      "metadata": {
        "colab": {
          "base_uri": "https://localhost:8080/"
        },
        "id": "NAIq1y1ouBJZ",
        "outputId": "480c2a72-ebda-4dfe-edd8-c2b5d93e5247"
      },
      "outputs": [
        {
          "name": "stdout",
          "output_type": "stream",
          "text": [
            "Avg\tSim\n",
            "1.047\t1.021\n",
            "1.033\t1.013\n",
            "1.037\t1.009\n",
            "1.039\t1.016\n"
          ]
        }
      ],
      "source": [
        "print(\"Avg\\tSim\")\n",
        "for avgScore, simScore in rmseList:\n",
        "    print(\"%.3lf\\t%.3lf\" % (avgScore, simScore))"
      ]
    },
    {
      "cell_type": "code",
      "execution_count": 83,
      "metadata": {
        "id": "cL7pSf2LIa6a"
      },
      "outputs": [],
      "source": []
    }
  ],
  "metadata": {
    "anaconda-cloud": {},
    "colab": {
      "provenance": []
    },
    "kernelspec": {
      "display_name": "Python 3",
      "language": "python",
      "name": "python3"
    },
    "language_info": {
      "codemirror_mode": {
        "name": "ipython",
        "version": 3
      },
      "file_extension": ".py",
      "mimetype": "text/x-python",
      "name": "python",
      "nbconvert_exporter": "python",
      "pygments_lexer": "ipython3",
      "version": "3.8.8"
    }
  },
  "nbformat": 4,
  "nbformat_minor": 0
}
